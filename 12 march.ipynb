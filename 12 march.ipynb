{
 "cells": [
  {
   "cell_type": "code",
   "execution_count": 1,
   "id": "cbf9c82a-333b-4b54-bf10-eee84693b127",
   "metadata": {},
   "outputs": [],
   "source": [
    "# Q1. Calculate the 95% confidence interval for a sample of data with a mean of 50 and a standard deviation \n",
    "# of 5 using Python. Interpret the results?"
   ]
  },
  {
   "cell_type": "code",
   "execution_count": 2,
   "id": "90d76e31-64fc-47bc-9d18-90af4a3c6683",
   "metadata": {},
   "outputs": [
    {
     "name": "stdout",
     "output_type": "stream",
     "text": [
      "95% confidence interval: (49.02001800772997, 50.97998199227003)\n"
     ]
    }
   ],
   "source": [
    "import scipy.stats as stats\n",
    "\n",
    "# set the sample statistics\n",
    "mean = 50\n",
    "std_dev = 5\n",
    "n = 100\n",
    "\n",
    "# calculate the standard error of the mean\n",
    "sem = std_dev / (n**0.5)\n",
    "\n",
    "# calculate the 95% confidence interval\n",
    "ci = stats.norm.interval(0.95, loc=mean, scale=sem)\n",
    "\n",
    "# print the results\n",
    "print(\"95% confidence interval:\", ci)\n"
   ]
  },
  {
   "cell_type": "code",
   "execution_count": null,
   "id": "4f6414c8-dd84-46fd-89f2-7e3e991975ae",
   "metadata": {},
   "outputs": [],
   "source": [
    "# Q2. Conduct a chi-square goodness of fit test to determine if the distribution of colors of M&Ms in a bag \n",
    "# matches the expected distribution of 20% blue, 20% orange, 20% green, 10% yellow, 10% red, and 20% \n",
    "# brown. Use Python to perform the test with a significance level of 0.05"
   ]
  },
  {
   "cell_type": "code",
   "execution_count": 3,
   "id": "3929871b-7d73-4976-8039-f949720d4355",
   "metadata": {},
   "outputs": [
    {
     "name": "stdout",
     "output_type": "stream",
     "text": [
      "Chi-square statistic: 1.75\n",
      "p-value: 0.882541374099146\n",
      "The observed distribution is not significantly different from the expected distribution.\n"
     ]
    }
   ],
   "source": [
    "import scipy.stats as stats\n",
    "import numpy as np\n",
    "\n",
    "# set the observed counts\n",
    "observed = np.array([18, 22, 17, 10, 9, 24])\n",
    "\n",
    "# set the expected counts\n",
    "expected = np.array([0.2, 0.2, 0.2, 0.1, 0.1, 0.2]) * observed.sum()\n",
    "\n",
    "# conduct the chi-square goodness of fit test\n",
    "stat, p = stats.chisquare(observed, expected)\n",
    "\n",
    "# print the results\n",
    "print(\"Chi-square statistic:\", stat)\n",
    "print(\"p-value:\", p)\n",
    "\n",
    "if p < 0.05:\n",
    "    print(\"The observed distribution is significantly different from the expected distribution.\")\n",
    "else:\n",
    "    print(\"The observed distribution is not significantly different from the expected distribution.\")\n"
   ]
  },
  {
   "cell_type": "code",
   "execution_count": 12,
   "id": "ffcad681-c2f7-42d9-88b1-d3138a41f413",
   "metadata": {},
   "outputs": [],
   "source": [
    "# Q3. Use Python to calculate the chi-square statistic and p-value for a contingency table with the following \n",
    "# data:\n",
    "#            Group A     Group B\n",
    "# outcome1     20          15\n",
    "# outcome2     10          25\n",
    "# outcome3     15          20\n",
    "\n",
    "# Interpret the results of the test."
   ]
  },
  {
   "cell_type": "code",
   "execution_count": 15,
   "id": "3cee1d78-ac6d-4e9b-bad0-b304c4105752",
   "metadata": {},
   "outputs": [
    {
     "name": "stdout",
     "output_type": "stream",
     "text": [
      "Chi-square statistic: 5.833333333333334\n",
      "p-value: 0.05411376622282158\n",
      "There is no evidence of an association between Group and Outcome.\n"
     ]
    }
   ],
   "source": [
    "import numpy as np\n",
    "from scipy.stats import chi2_contingency\n",
    "\n",
    "# create the contingency table\n",
    "observed = np.array([[20, 15], [10, 25], [15, 20]])\n",
    "\n",
    "# conduct the chi-square test\n",
    "chi2_statistic, p_value, degrees_of_freedom, expected_values = chi2_contingency(observed)\n",
    "\n",
    "# print the results\n",
    "print(\"Chi-square statistic:\", chi2_statistic)\n",
    "print(\"p-value:\", p_value)\n",
    "\n",
    "if p_value < 0.05:\n",
    "    print(\"There is evidence of an association between Group and Outcome.\")\n",
    "else:\n",
    "    print(\"There is no evidence of an association between Group and Outcome.\")\n"
   ]
  },
  {
   "cell_type": "code",
   "execution_count": 1,
   "id": "19aed6b6-7faa-47ab-bcd6-2481c304a1cc",
   "metadata": {},
   "outputs": [],
   "source": [
    "# Q4. A study of the prevalence of smoking in a population of 500 individuals found that 60 individuals \n",
    "# smoked. Use Python to calculate the 95% confidence interval for the true proportion of individuals in the \n",
    "# population who smoke"
   ]
  },
  {
   "cell_type": "code",
   "execution_count": 6,
   "id": "399ee271-d544-4ec3-a8fe-83176733214a",
   "metadata": {},
   "outputs": [
    {
     "name": "stdout",
     "output_type": "stream",
     "text": [
      "95% confidence interval: [0.09151586546865079, 0.1484841345313492]\n"
     ]
    }
   ],
   "source": [
    "# To calculate the 95% confidence interval for the true proportion of individuals in the population who smoke, we can use the following formula:\n",
    "\n",
    "# CI = p ± z * sqrt((p * (1 - p)) / n)\n",
    "\n",
    "# where:\n",
    "\n",
    "# p is the sample proportion of individuals who smoke\n",
    "# z is the z-score for the desired confidence level (95% in this case), which is 1.96\n",
    "# n is the sample size\n",
    "# Using Python, we can calculate the confidence interval as follows:\n",
    "\n",
    "import math\n",
    "\n",
    "n = 500\n",
    "p = 60 / n\n",
    "z = 1.96\n",
    "\n",
    "std_error = math.sqrt((p * (1 - p)) / n)\n",
    "lower_bound = p - z * std_error\n",
    "upper_bound = p + z * std_error\n",
    "\n",
    "print(f\"95% confidence interval: [{lower_bound}, {upper_bound}]\")\n"
   ]
  },
  {
   "cell_type": "code",
   "execution_count": 4,
   "id": "430563bd-adec-43a8-a263-08abd167cbab",
   "metadata": {},
   "outputs": [],
   "source": [
    "# Q5. Calculate the 90% confidence interval for a sample of data with a mean of 75 and a standard deviation \n",
    "# of 12 using Python. Interpret the results."
   ]
  },
  {
   "cell_type": "code",
   "execution_count": 15,
   "id": "78bfd0a9-1ba2-4a27-8fb0-8fde3e14e374",
   "metadata": {},
   "outputs": [
    {
     "name": "stdout",
     "output_type": "stream",
     "text": [
      "90% confidence interval: [73.026, 76.974]\n"
     ]
    }
   ],
   "source": [
    "import math\n",
    "\n",
    "\n",
    "n = 100 # sample size\n",
    "mean = 75 # sample mean\n",
    "std_dev = 12 # population standard deviation\n",
    "z = 1.645 # z-score for 90% confidence level\n",
    "\n",
    "std_error = std_dev / math.sqrt(n)\n",
    "lower_bound = mean - z * std_error\n",
    "upper_bound = mean + z * std_error\n",
    "\n",
    "print(f\"90% confidence interval: [{lower_bound}, {upper_bound}]\" )"
   ]
  },
  {
   "cell_type": "code",
   "execution_count": 16,
   "id": "d3001f4c-f620-49bf-9dcc-64c0239702a3",
   "metadata": {},
   "outputs": [],
   "source": [
    "# Q6. Use Python to plot the chi-square distribution with 10 degrees of freedom. Label the axes and shade the \n",
    "# area corresponding to a chi-square statistic of 15."
   ]
  },
  {
   "cell_type": "code",
   "execution_count": 19,
   "id": "19336cb4-e263-42a2-97ad-53b880257508",
   "metadata": {},
   "outputs": [
    {
     "data": {
      "image/png": "[encoded data removed]",
      "text/plain": [
       "<Figure size 640x480 with 1 Axes>"
      ]
     },
     "metadata": {},
     "output_type": "display_data"
    }
   ],
   "source": [
    "import numpy as np\n",
    "import matplotlib.pyplot as plt\n",
    "from scipy.stats import chi2\n",
    "\n",
    "df = 10  # degrees of freedom\n",
    "\n",
    "# create an array of x values from 0 to 30\n",
    "x = np.linspace(0, 30, 500)\n",
    "\n",
    "# calculate the y values of the chi-square distribution with 10 degrees of freedom\n",
    "y = chi2.pdf(x, df)\n",
    "\n",
    "# create a figure and axis object\n",
    "fig, ax = plt.subplots()\n",
    "\n",
    "# plot the chi-square distribution with 10 degrees of freedom\n",
    "ax.plot(x, y, label=f'χ²({df})')\n",
    "\n",
    "# shade the area corresponding to a chi-square statistic of 15\n",
    "mask = x >= 15\n",
    "ax.fill_between(x[mask], y[mask], 0, alpha=0.3)\n",
    "\n",
    "# set the x and y axis labels\n",
    "ax.set_xlabel('χ²')\n",
    "ax.set_ylabel('Probability density')\n",
    "\n",
    "# add a legend\n",
    "ax.legend()\n",
    "\n",
    "# display the plot\n",
    "plt.show()\n"
   ]
  },
  {
   "cell_type": "code",
   "execution_count": 1,
   "id": "6141e522-0ba6-4a7f-a669-0f79cf9fb436",
   "metadata": {},
   "outputs": [],
   "source": [
    "# Q7. A random sample of 1000 people was asked if they preferred Coke or Pepsi. Of the sample, 520 \n",
    "# preferred Coke. Calculate a 99% confidence interval for the true proportion of people in the population who \n",
    "# prefer Coke."
   ]
  },
  {
   "cell_type": "code",
   "execution_count": 2,
   "id": "90adf694-e6c9-45ea-8710-88586bad20ec",
   "metadata": {},
   "outputs": [],
   "source": [
    "# To calculate the 99% confidence interval for the true proportion of people in the population who prefer Coke, we can use the following formula:\n",
    "\n",
    "# CI = p ± zsqrt(p(1-p)/n)\n",
    "\n",
    "# where:\n",
    "\n",
    "# CI is the confidence interval\n",
    "# p is the sample proportion\n",
    "# z is the z-score for the desired confidence level\n",
    "# n is the sample size\n",
    "# In this case, the sample proportion is 520/1000 = 0.52, and the sample size is 1000.\n",
    "\n",
    "# To find the z-score for a 99% confidence level, we can use a standard normal distribution table or calculator.\n",
    "# The z-score corresponding to a 99% confidence level is approximately 2.576.\n",
    "\n",
    "# Plugging in the values, we get:\n",
    "\n",
    "# CI = 0.52 ± 2.576sqrt(0.52(1-0.52)/1000)\n",
    "\n",
    "# Simplifying:\n",
    "\n",
    "# CI = 0.52 ± 0.050\n",
    "\n",
    "# So the 99% confidence interval for the true proportion of people in the population who prefer Coke is:\n",
    "\n",
    "# 0.47 ≤ p ≤ 0.57\n",
    "\n",
    "# Therefore, we can say with 99% confidence that the true proportion of people in the population who prefer Coke is between 0.47 and 0.57."
   ]
  },
  {
   "cell_type": "code",
   "execution_count": 3,
   "id": "fe9bc2f9-b594-4239-ad42-5d385a461d86",
   "metadata": {},
   "outputs": [],
   "source": [
    "# Q8. A researcher hypothesizes that a coin is biased towards tails. They flip the coin 100 times and observe \n",
    "# 45 tails. Conduct a chi-square goodness of fit test to determine if the observed frequencies match the \n",
    "# expected frequencies of a fair coin. Use a significance level of 0.05."
   ]
  },
  {
   "cell_type": "code",
   "execution_count": 5,
   "id": "36b54f97-b71f-4b4f-81dc-84bc0bffa9f9",
   "metadata": {},
   "outputs": [],
   "source": [
    "# Step 1: State the null hypothesis and alternative hypothesis.\n",
    "\n",
    "# Null hypothesis (H0): The coin is fair and not biased towards tails.\n",
    "# Alternative hypothesis (Ha): The coin is biased towards tails.\n",
    "\n",
    "# Step 2: Determine the expected frequencies.\n",
    "\n",
    "# If the coin is fair, we would expect 50 tails out of 100 flips and 50 heads out of 100 flips.\n",
    "# Thus, the expected frequency of tails is 50, and the expected frequency of heads is also 50.\n",
    "\n",
    "# Step 3: Set the significance level and degree of freedom.\n",
    "\n",
    "# The significance level is given as 0.05. Since we are testing a hypothesis for a coin, \n",
    "# we have one degree of freedom (df = number of categories - 1 = 2 - 1 = 1).\n",
    "\n",
    "# Step 4: Calculate the test statistic.\n",
    "\n",
    "# The chi-square test statistic is calculated as:\n",
    "\n",
    "# χ² = Σ (O - E)² / E\n",
    "\n",
    "# where:\n",
    "# O is the observed frequency\n",
    "# E is the expected frequency\n",
    "\n",
    "# In this case, the observed frequency of tails is 45, and the observed frequency of heads is 55.\n",
    "# The expected frequency of tails and heads are both 50.\n",
    "\n",
    "# χ² = [(45-50)²/50] + [(55-50)²/50]\n",
    "# χ² = 1\n",
    "\n",
    "# Step 5: Determine the critical value.\n",
    "\n",
    "# The critical value for a chi-square test with one degree of freedom and a significance level of 0.05 is 3.84\n",
    "# (from chi-square distribution table).\n",
    "\n",
    "# Step 6: Make a decision and interpret the results.\n",
    "\n",
    "# Since our test statistic (χ² = 1) is less than the critical value (3.84), we fail to reject the null hypothesis. \n",
    "# Therefore, we do not have sufficient evidence to conclude that the coin is biased towards tails at a significance level of 0.05.\n",
    "\n",
    "# the observed frequencies (45 tails and 55 heads) do not significantly differ from the expected frequencies of a fair coin \n",
    "# (50 tails and 50 heads), and we cannot conclude that the coin is biased towards tails."
   ]
  },
  {
   "cell_type": "code",
   "execution_count": 6,
   "id": "c56e3439-7878-4986-9fc2-9777fec75234",
   "metadata": {},
   "outputs": [],
   "source": [
    "# Q9. A study was conducted to determine if there is an association between smoking status (smoker or \n",
    "# non-smoker) and lung cancer diagnosis (yes or no). The results are shown in the contingency table below. \n",
    "# Conduct a chi-square test for independence to determine if there is a significant association between \n",
    "# smoking status and lung cancer diagnosis.\n",
    "#                      Lung Cancer: Yes      Lung Cancer: No\n",
    "#  Smoker                      60                 140\n",
    "#  Non-smoker                  30                 170\n",
    "\n",
    "# Use a significance level of 0.05"
   ]
  },
  {
   "cell_type": "code",
   "execution_count": 9,
   "id": "8e8b4ebb-0e4f-49c7-bb00-ba49dc9be507",
   "metadata": {},
   "outputs": [],
   "source": [
    "# To conduct a chi-square test for independence, we need to follow these steps:\n",
    "\n",
    "# Step 1: State the null hypothesis and alternative hypothesis.\n",
    "\n",
    "# Null hypothesis (H0): There is no significant association between smoking status and lung cancer diagnosis.\n",
    "# Alternative hypothesis (Ha): There is a significant association between smoking status and lung cancer diagnosis.\n",
    "\n",
    "# Step 2: Set the significance level and degree of freedom.\n",
    "\n",
    "# The significance level is given as 0.05. The degree of freedom for a contingency table with r rows and c columns is (r-1) x (c-1).\n",
    "\n",
    "# In this case, there are 2 rows (smoker and non-smoker) and 2 columns (lung cancer yes or no), so the degree of freedom is (2-1) x (2-1) = 1.\n",
    "\n",
    "# Step 3: Create the contingency table and calculate the expected frequencies.\n",
    "\n",
    "#                   Lung Cancer: Yes      Lung Cancer: No       Total\n",
    "# Smoker                    60                  140              200\n",
    "# Non-smoker                30                  170              200\n",
    "# Total                     90                  310              400\n",
    "\n",
    "# The expected frequency for each cell can be calculated as:\n",
    "\n",
    "# Expected frequency = (row total x column total) / grand total\n",
    "\n",
    "# For example, the expected frequency for the smoker and lung cancer yes cell is:\n",
    "\n",
    "# Expected frequency = (200 x 90) / 400 = 45\n",
    "\n",
    "# Calculating the expected frequencies for all cells, we get:\n",
    "\n",
    "#                   Lung Cancer: Yes      Lung Cancer: No       Total\n",
    "# Smoker                   45                   155              200\n",
    "# Non-smoker               45                   155              200\n",
    "# Total                    90                   310              400\n",
    "\n",
    "# Step 4: Calculate the test statistic.\n",
    "\n",
    "# The chi-square test statistic is calculated as:\n",
    "\n",
    "# χ² = Σ (O - E)² / E\n",
    "\n",
    "# where:\n",
    "# O is the observed frequency\n",
    "# E is the expected frequency\n",
    "\n",
    "# In this case, the observed frequencies and expected frequencies are shown in the contingency table above.\n",
    "\n",
    "# χ² = [(60-45)²/45] + [(140-155)²/155] + [(30-45)²/45] + [(170-155)²/155]\n",
    "# χ² = 16.36\n",
    "\n",
    "# Step 5: Determine the critical value.\n",
    "\n",
    "# The critical value for a chi-square test with one degree of freedom and a significance level of 0.05 is 3.84 \n",
    "# (from chi-square distribution table).\n",
    "\n",
    "# Step 6: Make a decision and interpret the results.\n",
    "\n",
    "# Since our test statistic (χ² = 16.36) is greater than the critical value (3.84), we reject the null hypothesis. \n",
    "# Therefore, we have sufficient evidence to conclude that there is a significant association between smoking status \n",
    "# and lung cancer diagnosis at a significance level of 0.05.\n",
    "\n",
    "# In other words, the observed frequencies (60 smokers with lung cancer, 140 smokers without lung cancer, 30 non-smokers with lung cancer, \n",
    "# and 170 non-smokers without lung cancer) significantly differ from the expected frequencies under \n",
    "# the assumption of independence between smoking status and lung cancer diagnosis. Hence, we can conclude that smoking status is associated \n",
    "# with lung cancer diagnosis."
   ]
  },
  {
   "cell_type": "code",
   "execution_count": 8,
   "id": "5b47bc9f-06c0-4285-a7fa-b77e81f8f44c",
   "metadata": {},
   "outputs": [],
   "source": [
    "# Q10. A study was conducted to determine if the proportion of people who prefer milk chocolate, dark \n",
    "# chocolate, or white chocolate is different in the U.S. versus the U.K. A random sample of 500 people from \n",
    "# the U.S. and a random sample of 500 people from the U.K. were surveyed. The results are shown in the \n",
    "# contingency table below. Conduct a chi-square test for independence to determine if there is a significant \n",
    "# association between chocolate preference and country of origin\n",
    "\n",
    "#                     Milk Chocolate    Dark Chocolate      White Chocolate\n",
    "#  U.S.(n=500)             200               150                 150\n",
    "#  U.K.(n=500)             225               175                 100\n",
    "    \n",
    "# Use a significance level of 0.01."
   ]
  },
  {
   "cell_type": "code",
   "execution_count": 10,
   "id": "bf2b829f-47a1-4ce7-8611-cd2f94a392f8",
   "metadata": {},
   "outputs": [],
   "source": [
    "# To conduct a chi-square test for independence, we need to follow these steps:\n",
    "\n",
    "# Step 1: State the null hypothesis and alternative hypothesis.\n",
    "\n",
    "# Null hypothesis (H0): There is no significant association between chocolate preference and country of origin.\n",
    "# Alternative hypothesis (Ha): There is a significant association between chocolate preference and country of origin.\n",
    "\n",
    "# Step 2: Set the significance level and degree of freedom.\n",
    "\n",
    "# The significance level is given as 0.01. The degree of freedom for a contingency table with r rows and c columns is (r-1) x (c-1).\n",
    "\n",
    "# In this case, there are 2 rows (U.S. and U.K.) and 3 columns (milk chocolate, dark chocolate, and white chocolate), \n",
    "# so the degree of freedom is (2-1) x (3-1) = 2.\n",
    "\n",
    "# Step 3: Create the contingency table and calculate the expected frequencies.\n",
    "\n",
    "#                   Milk Chocolate    Dark Chocolate      White Chocolate        Total\n",
    "# U.S. (n=500)             200               150                  150             500\n",
    "# U.K. (n=500)             225               175                  100             500\n",
    "# Total                    425               325                  250             1000\n",
    "\n",
    "# The expected frequency for each cell can be calculated as:\n",
    "\n",
    "# Expected frequency = (row total x column total) / grand total\n",
    "\n",
    "# For example, the expected frequency for the U.S. and milk chocolate cell is:\n",
    "\n",
    "# Expected frequency = (500 x 425) / 1000 = 212.5\n",
    "\n",
    "# Calculating the expected frequencies for all cells, we get:\n",
    "\n",
    "#                   Milk Chocolate    Dark Chocolate      White Chocolate        Total\n",
    "# U.S. (n=500)            212.5            162.5               125                500\n",
    "# U.K. (n=500)            212.5            162.5               125                500\n",
    "# Total                   425              325                 250                1000\n",
    "\n",
    "# Step 4: Calculate the test statistic.\n",
    "\n",
    "# The chi-square test statistic is calculated as:\n",
    "\n",
    "# χ² = Σ (O - E)² / E\n",
    "\n",
    "# where:\n",
    "# O is the observed frequency\n",
    "# E is the expected frequency\n",
    "\n",
    "# In this case, the observed frequencies and expected frequencies are shown in the contingency table above.\n",
    "\n",
    "# χ² = [(200-212.5)²/212.5] + [(150-162.5)²/162.5] + [(150-125)²/125] + [(225-212.5)²/212.5] + [(175-162.5)²/162.5] + [(100-125)²/125]\n",
    "# χ² = 16.11\n",
    "\n",
    "# Step 5: Determine the critical value.\n",
    "\n",
    "# The critical value for a chi-square test with two degrees of freedom and a significance level of 0.01 is 9.21 \n",
    "# (from chi-square distribution table).\n",
    "\n",
    "# Step 6: Make a decision and interpret the results.\n",
    "\n",
    "# Since our test statistic (χ² = 16.11) is greater than the critical value (9.21), we reject the null hypothesis. \n",
    "# Therefore, we have sufficient evidence to conclude that there is a significant association between chocolate preference \n",
    "# and country of origin at a significance level of 0.01.\n",
    "\n",
    "# In other words, the observed frequencies (200 U.S. respondents prefer milk chocolate, 150 U.S. respondents prefer dark chocolate, \n",
    "# 150 U.S. respondents prefer white chocolate, 225 U.K. respondents prefer milk chocolate, 175 U.K. respondents prefer dark chocolate, \n",
    "# and 100 U.K. respondents prefer white chocolate) significantly differ from the expected frequencies under the assumption of independence\n",
    "# between chocolate preference and country of origin. Hence, we can conclude that there is a significant \n",
    "# association between chocolate preference and country of origin"
   ]
  },
  {
   "cell_type": "code",
   "execution_count": 11,
   "id": "7bd99e88-d6a3-4b71-b912-25411d7a6e30",
   "metadata": {},
   "outputs": [],
   "source": [
    "# Q11. A random sample of 30 people was selected from a population with an unknown mean and standard \n",
    "# deviation. The sample mean was found to be 72 and the sample standard deviation was found to be 10. \n",
    "# Conduct a hypothesis test to determine if the population mean is significantly different from 70. Use a \n",
    "# significance level of 0.05"
   ]
  },
  {
   "cell_type": "code",
   "execution_count": 12,
   "id": "0327ac51-5354-43bc-9b9b-1550db842d60",
   "metadata": {},
   "outputs": [],
   "source": [
    "# We can conduct a one-sample t-test to determine if the population mean is significantly different from 70. \n",
    "# The null and alternative hypotheses are:\n",
    "\n",
    "# H0: µ = 70\n",
    "# Ha: µ ≠ 70\n",
    "\n",
    "# where µ is the population mean.\n",
    "\n",
    "# We can calculate the t-test statistic as:\n",
    "\n",
    "# t = (x̄ - µ) / (s / √n)\n",
    "\n",
    "# where x̄ is the sample mean, µ is the hypothesized population mean, s is the sample standard deviation, and n is the sample size.\n",
    "\n",
    "# Substituting the given values, we get:\n",
    "\n",
    "# t = (72 - 70) / (10 / √30) = 1.55\n",
    "\n",
    "# Using a t-distribution table with 29 degrees of freedom and a significance level of 0.05 (two-tailed), \n",
    "# we find the critical values to be ±2.045.\n",
    "\n",
    "# Since the calculated t-value of 1.55 falls within the range of -2.045 to 2.045, we fail to reject the null hypothesis. \n",
    "# There is not enough evidence to conclude that the population mean is significantly different from 70 at a significance level of 0.05."
   ]
  },
  {
   "cell_type": "code",
   "execution_count": null,
   "id": "88a98a66-ccbd-488a-9be6-e58d8d2d7956",
   "metadata": {},
   "outputs": [],
   "source": []
  }
 ],
 "metadata": {
  "kernelspec": {
   "display_name": "Python 3 (ipykernel)",
   "language": "python",
   "name": "python3"
  },
  "language_info": {
   "codemirror_mode": {
    "name": "ipython",
    "version": 3
   },
   "file_extension": ".py",
   "mimetype": "text/x-python",
   "name": "python",
   "nbconvert_exporter": "python",
   "pygments_lexer": "ipython3",
   "version": "3.10.8"
  }
 },
 "nbformat": 4,
 "nbformat_minor": 5
}
